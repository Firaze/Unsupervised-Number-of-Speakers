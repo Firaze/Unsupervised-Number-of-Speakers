{
 "cells": [
  {
   "cell_type": "code",
   "execution_count": 1,
   "metadata": {},
   "outputs": [
    {
     "name": "stderr",
     "output_type": "stream",
     "text": [
      "D:\\Users\\ress\\anaconda3\\lib\\site-packages\\tensorflow\\python\\framework\\dtypes.py:516: FutureWarning: Passing (type, 1) or '1type' as a synonym of type is deprecated; in a future version of numpy, it will be understood as (type, (1,)) / '(1,)type'.\n",
      "  _np_qint8 = np.dtype([(\"qint8\", np.int8, 1)])\n",
      "D:\\Users\\ress\\anaconda3\\lib\\site-packages\\tensorflow\\python\\framework\\dtypes.py:517: FutureWarning: Passing (type, 1) or '1type' as a synonym of type is deprecated; in a future version of numpy, it will be understood as (type, (1,)) / '(1,)type'.\n",
      "  _np_quint8 = np.dtype([(\"quint8\", np.uint8, 1)])\n",
      "D:\\Users\\ress\\anaconda3\\lib\\site-packages\\tensorflow\\python\\framework\\dtypes.py:518: FutureWarning: Passing (type, 1) or '1type' as a synonym of type is deprecated; in a future version of numpy, it will be understood as (type, (1,)) / '(1,)type'.\n",
      "  _np_qint16 = np.dtype([(\"qint16\", np.int16, 1)])\n",
      "D:\\Users\\ress\\anaconda3\\lib\\site-packages\\tensorflow\\python\\framework\\dtypes.py:519: FutureWarning: Passing (type, 1) or '1type' as a synonym of type is deprecated; in a future version of numpy, it will be understood as (type, (1,)) / '(1,)type'.\n",
      "  _np_quint16 = np.dtype([(\"quint16\", np.uint16, 1)])\n",
      "D:\\Users\\ress\\anaconda3\\lib\\site-packages\\tensorflow\\python\\framework\\dtypes.py:520: FutureWarning: Passing (type, 1) or '1type' as a synonym of type is deprecated; in a future version of numpy, it will be understood as (type, (1,)) / '(1,)type'.\n",
      "  _np_qint32 = np.dtype([(\"qint32\", np.int32, 1)])\n",
      "D:\\Users\\ress\\anaconda3\\lib\\site-packages\\tensorflow\\python\\framework\\dtypes.py:525: FutureWarning: Passing (type, 1) or '1type' as a synonym of type is deprecated; in a future version of numpy, it will be understood as (type, (1,)) / '(1,)type'.\n",
      "  np_resource = np.dtype([(\"resource\", np.ubyte, 1)])\n",
      "D:\\Users\\ress\\anaconda3\\lib\\site-packages\\tensorboard\\compat\\tensorflow_stub\\dtypes.py:541: FutureWarning: Passing (type, 1) or '1type' as a synonym of type is deprecated; in a future version of numpy, it will be understood as (type, (1,)) / '(1,)type'.\n",
      "  _np_qint8 = np.dtype([(\"qint8\", np.int8, 1)])\n",
      "D:\\Users\\ress\\anaconda3\\lib\\site-packages\\tensorboard\\compat\\tensorflow_stub\\dtypes.py:542: FutureWarning: Passing (type, 1) or '1type' as a synonym of type is deprecated; in a future version of numpy, it will be understood as (type, (1,)) / '(1,)type'.\n",
      "  _np_quint8 = np.dtype([(\"quint8\", np.uint8, 1)])\n",
      "D:\\Users\\ress\\anaconda3\\lib\\site-packages\\tensorboard\\compat\\tensorflow_stub\\dtypes.py:543: FutureWarning: Passing (type, 1) or '1type' as a synonym of type is deprecated; in a future version of numpy, it will be understood as (type, (1,)) / '(1,)type'.\n",
      "  _np_qint16 = np.dtype([(\"qint16\", np.int16, 1)])\n",
      "D:\\Users\\ress\\anaconda3\\lib\\site-packages\\tensorboard\\compat\\tensorflow_stub\\dtypes.py:544: FutureWarning: Passing (type, 1) or '1type' as a synonym of type is deprecated; in a future version of numpy, it will be understood as (type, (1,)) / '(1,)type'.\n",
      "  _np_quint16 = np.dtype([(\"quint16\", np.uint16, 1)])\n",
      "D:\\Users\\ress\\anaconda3\\lib\\site-packages\\tensorboard\\compat\\tensorflow_stub\\dtypes.py:545: FutureWarning: Passing (type, 1) or '1type' as a synonym of type is deprecated; in a future version of numpy, it will be understood as (type, (1,)) / '(1,)type'.\n",
      "  _np_qint32 = np.dtype([(\"qint32\", np.int32, 1)])\n",
      "D:\\Users\\ress\\anaconda3\\lib\\site-packages\\tensorboard\\compat\\tensorflow_stub\\dtypes.py:550: FutureWarning: Passing (type, 1) or '1type' as a synonym of type is deprecated; in a future version of numpy, it will be understood as (type, (1,)) / '(1,)type'.\n",
      "  np_resource = np.dtype([(\"resource\", np.ubyte, 1)])\n"
     ]
    }
   ],
   "source": [
    "from functions import *"
   ]
  },
  {
   "cell_type": "code",
   "execution_count": 2,
   "metadata": {},
   "outputs": [],
   "source": [
    "#must be music or podcast\n",
    "atype=\"music\""
   ]
  },
  {
   "cell_type": "code",
   "execution_count": 5,
   "metadata": {
    "collapsed": true,
    "jupyter": {
     "outputs_hidden": true
    }
   },
   "outputs": [
    {
     "name": "stdout",
     "output_type": "stream",
     "text": [
      "INFO:tensorflow:Using config: {'_model_dir': 'pretrained_models\\\\2stems', '_tf_random_seed': None, '_save_summary_steps': 100, '_save_checkpoints_steps': None, '_save_checkpoints_secs': 600, '_session_config': gpu_options {\n",
      "  per_process_gpu_memory_fraction: 0.7\n",
      "}\n",
      ", '_keep_checkpoint_max': 5, '_keep_checkpoint_every_n_hours': 10000, '_log_step_count_steps': 100, '_train_distribute': None, '_device_fn': None, '_protocol': None, '_eval_distribute': None, '_experimental_distribute': None, '_experimental_max_worker_delay_secs': None, '_service': None, '_cluster_spec': <tensorflow.python.training.server_lib.ClusterSpec object at 0x00000214DE609B08>, '_task_type': 'worker', '_task_id': 0, '_global_id_in_cluster': 0, '_master': '', '_evaluation_master': '', '_is_chief': True, '_num_ps_replicas': 0, '_num_worker_replicas': 1}\n",
      "INFO:tensorflow:Calling model_fn.\n",
      "WARNING:tensorflow:From D:\\Users\\ress\\anaconda3\\lib\\site-packages\\spleeter\\model\\functions\\unet.py:30: The name tf.keras.initializers.he_uniform is deprecated. Please use tf.compat.v1.keras.initializers.he_uniform instead.\n",
      "\n",
      "INFO:tensorflow:Apply unet for vocals_spectrogram\n",
      "INFO:tensorflow:Apply unet for accompaniment_spectrogram\n",
      "INFO:tensorflow:Done calling model_fn.\n",
      "WARNING:tensorflow:From D:\\Users\\ress\\anaconda3\\lib\\site-packages\\tensorflow\\python\\saved_model\\signature_def_utils_impl.py:201: build_tensor_info (from tensorflow.python.saved_model.utils_impl) is deprecated and will be removed in a future version.\n",
      "Instructions for updating:\n",
      "This function will only be available through the v1 compatibility library as tf.compat.v1.saved_model.utils.build_tensor_info or tf.compat.v1.saved_model.build_tensor_info.\n",
      "INFO:tensorflow:Signatures INCLUDED in export for Classify: None\n",
      "INFO:tensorflow:Signatures INCLUDED in export for Regress: None\n",
      "INFO:tensorflow:Signatures INCLUDED in export for Predict: ['serving_default']\n",
      "INFO:tensorflow:Signatures INCLUDED in export for Train: None\n",
      "INFO:tensorflow:Signatures INCLUDED in export for Eval: None\n",
      "WARNING:tensorflow:From D:\\Users\\ress\\anaconda3\\lib\\site-packages\\tensorflow\\python\\training\\saver.py:1276: checkpoint_exists (from tensorflow.python.training.checkpoint_management) is deprecated and will be removed in a future version.\n",
      "Instructions for updating:\n",
      "Use standard file APIs to check for files with this prefix.\n",
      "INFO:tensorflow:Restoring parameters from pretrained_models\\2stems\\model\n",
      "INFO:tensorflow:Assets added to graph.\n",
      "INFO:tensorflow:No assets to write.\n",
      "INFO:tensorflow:SavedModel written to: C:\\Users\\ress\\AppData\\Local\\Temp\\serving\\temp-b'1585331174'\\saved_model.pb\n",
      "WARNING:tensorflow:From D:\\Users\\ress\\anaconda3\\lib\\site-packages\\tensorflow\\contrib\\predictor\\saved_model_predictor.py:153: load (from tensorflow.python.saved_model.loader_impl) is deprecated and will be removed in a future version.\n",
      "Instructions for updating:\n",
      "This function will only be available through the v1 compatibility library as tf.compat.v1.saved_model.loader.load or tf.compat.v1.saved_model.load. There will be a new function for importing SavedModels in Tensorflow 2.0.\n",
      "INFO:tensorflow:Restoring parameters from C:\\Users\\ress\\AppData\\Local\\Temp\\serving\\1585331174\\variables\\variables\n"
     ]
    }
   ],
   "source": [
    "filtAllFiles(\"neural\",atype)"
   ]
  },
  {
   "cell_type": "code",
   "execution_count": null,
   "metadata": {},
   "outputs": [],
   "source": [
    "extractFeaturesAllFiles(\"neural\",atype)"
   ]
  },
  {
   "cell_type": "code",
   "execution_count": 3,
   "metadata": {
    "collapsed": true,
    "jupyter": {
     "outputs_hidden": true
    }
   },
   "outputs": [
    {
     "name": "stdout",
     "output_type": "stream",
     "text": [
      "Reduced to: 0.9446494464944649\n",
      "[0.87855082 0.91535806 0.93977324 0.95971314]\n",
      "Reduced to: 0.9353448275862069\n",
      "[0.87863228 0.96312397 0.97661322 0.98442548]\n",
      "Reduced to: 0.931899641577061\n",
      "[0.78513619 0.88988179 0.93003539 0.95090718]\n",
      "Reduced to: 0.8531073446327684\n",
      "[0.47584111 0.65752179 0.74904129 0.81830415]\n",
      "Reduced to: 0.9254385964912281\n",
      "[0.39854064 0.62239143 0.73569126 0.8349062 ]\n",
      "Reduced to: 0.9601769911504425\n",
      "[0.94131422 0.96025761 0.9752023  0.98501131]\n",
      "Reduced to: 0.9468085106382979\n",
      "[0.92645693 0.95405757 0.97571305 0.98266014]\n",
      "Reduced to: 0.9631147540983607\n",
      "[0.91897009 0.96046681 0.97260628 0.97972647]\n",
      "Reduced to: 0.9083665338645418\n",
      "[0.71624285 0.84062175 0.8947621  0.92862738]\n",
      "Reduced to: 0.9857651245551602\n",
      "[0.95530591 0.96768427 0.97904215 0.98532066]\n",
      "Reduced to: 0.9478260869565217\n",
      "[0.87942116 0.91461719 0.94041014 0.9552074 ]\n",
      "Reduced to: 0.9181034482758621\n",
      "[0.59559508 0.73683254 0.85477614 0.89669062]\n",
      "Reduced to: 0.8923766816143498\n",
      "[0.61352657 0.73856449 0.85173144 0.89219042]\n",
      "Reduced to: 0.9285714285714286\n",
      "[0.88417959 0.92215236 0.95604076 0.96869591]\n",
      "Reduced to: 0.8888888888888888\n",
      "[0.69508821 0.8207804  0.88390173 0.92440965]\n",
      "Reduced to: 0.9594594594594594\n",
      "[0.91849144 0.94991564 0.96860493 0.97635171]\n",
      "Reduced to: 0.9685863874345549\n",
      "[0.90498815 0.95562336 0.97112459 0.97931835]\n",
      "Reduced to: 0.9720496894409938\n",
      "[0.98029372 0.9861911  0.99106894 0.99376285]\n",
      "Reduced to: 0.9295774647887324\n",
      "[0.94377051 0.96864174 0.97867356 0.98795558]\n",
      "Reduced to: 0.956140350877193\n",
      "[0.94986688 0.96536407 0.97945581 0.98558706]\n",
      "Reduced to: 0.9395348837209302\n",
      "[0.80728659 0.8608849  0.91023404 0.93750712]\n",
      "Reduced to: 0.9487179487179487\n",
      "[0.93464267 0.95594413 0.97047451 0.98212612]\n",
      "Reduced to: 0.9473684210526315\n",
      "[0.96594169 0.97685519 0.98400574 0.9877654 ]\n",
      "Reduced to: 0.9177489177489178\n",
      "[0.75925483 0.84391577 0.90649752 0.93430316]\n",
      "Reduced to: 0.9494584837545126\n",
      "[0.90103924 0.93537462 0.95537543 0.9719532 ]\n",
      "Reduced to: 0.9628099173553719\n",
      "[0.94444036 0.96348758 0.97507545 0.98337026]\n",
      "Reduced to: 0.9450980392156862\n",
      "[0.9538494  0.97087754 0.98217857 0.98698349]\n",
      "Reduced to: 0.9185667752442996\n",
      "[0.49294983 0.70372494 0.8088928  0.89205994]\n",
      "Reduced to: 0.9\n",
      "[0.74525244 0.83560356 0.8894898  0.92593892]\n",
      "Reduced to: 0.9191919191919192\n",
      "[0.35629749 0.562668   0.69745965 0.77552063]\n",
      "Reduced to: 0.9693486590038314\n",
      "[0.92898618 0.9528247  0.97135292 0.98174703]\n",
      "Reduced to: 0.9067796610169492\n",
      "[0.57848608 0.73853915 0.83735484 0.88906445]\n",
      "Reduced to: 0.8962655601659751\n",
      "[0.75869631 0.84485528 0.91151451 0.93266966]\n",
      "Reduced to: 0.9473684210526315\n",
      "[0.70824787 0.80096043 0.86035193 0.90528726]\n",
      "Reduced to: 0.9154929577464789\n",
      "[0.51330726 0.69374284 0.78273829 0.85371339]\n",
      "Reduced to: 0.9273743016759777\n",
      "[0.51435157 0.70042231 0.82969634 0.88937941]\n",
      "Reduced to: 0.9132075471698113\n",
      "[0.66207555 0.76591928 0.84527458 0.89094767]\n",
      "Reduced to: 0.9551569506726457\n",
      "[0.9681785  0.97877104 0.9853219  0.98923892]\n",
      "Reduced to: 0.9107142857142857\n",
      "[0.45745372 0.66938008 0.80060791 0.85342868]\n",
      "Reduced to: 0.9069767441860465\n",
      "[0.9098328  0.9410848  0.9623926  0.97668994]\n"
     ]
    }
   ],
   "source": [
    "data1=readFiles(\"neural\",atype,\"one\")\n",
    "data2=readFiles(\"neural\",atype,\"two\")\n",
    "data3=[]\n",
    "data4=[]\n",
    "if (atype==\"podcast\"):\n",
    "    data3=readFiles(\"neural\",atype,\"three\")\n",
    "    data4=readFiles(\"neural\",atype,\"four\")"
   ]
  },
  {
   "cell_type": "code",
   "execution_count": 5,
   "metadata": {},
   "outputs": [
    {
     "name": "stdout",
     "output_type": "stream",
     "text": [
      "Best distance: 5470\n",
      "Errors: 19\n",
      "Accuracy: 68.33333333333333 %\n"
     ]
    },
    {
     "data": {
      "image/png": "[encoded data removed]",
      "text/plain": [
       "<Figure size 432x288 with 1 Axes>"
      ]
     },
     "metadata": {
      "needs_background": "light"
     },
     "output_type": "display_data"
    }
   ],
   "source": [
    "start=4000\n",
    "stop=20000\n",
    "dist=bestDistance(data1,data2,data3,data4,\"neural\",atype,start,stop)"
   ]
  },
  {
   "cell_type": "code",
   "execution_count": 6,
   "metadata": {},
   "outputs": [],
   "source": [
    "savePlots(data1,\"neural\",atype,\"one\",dist)\n",
    "savePlots(data2,\"neural\",atype,\"two\",dist)\n",
    "if (atype==\"podcast\"):\n",
    "    savePlots(data3,\"neural\",atype,\"three\",dist)\n",
    "    savePlots(data4,\"neural\",atype,\"four\",dist)"
   ]
  },
  {
   "cell_type": "code",
   "execution_count": 7,
   "metadata": {},
   "outputs": [
    {
     "data": {
      "image/png": "[encoded data removed]",
      "text/plain": [
       "<Figure size 1440x720 with 3 Axes>"
      ]
     },
     "metadata": {
      "needs_background": "light"
     },
     "output_type": "display_data"
    }
   ],
   "source": [
    "plotErrors(data1,data2,data3,data4,dist,\"neural\",atype)"
   ]
  },
  {
   "cell_type": "code",
   "execution_count": null,
   "metadata": {},
   "outputs": [],
   "source": []
  }
 ],
 "metadata": {
  "kernelspec": {
   "display_name": "Python 3",
   "language": "python",
   "name": "python3"
  },
  "language_info": {
   "codemirror_mode": {
    "name": "ipython",
    "version": 3
   },
   "file_extension": ".py",
   "mimetype": "text/x-python",
   "name": "python",
   "nbconvert_exporter": "python",
   "pygments_lexer": "ipython3",
   "version": "3.7.6"
  }
 },
 "nbformat": 4,
 "nbformat_minor": 4
}
