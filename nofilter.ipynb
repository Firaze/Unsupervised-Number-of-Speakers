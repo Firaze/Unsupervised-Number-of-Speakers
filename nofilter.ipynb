{
 "cells": [
  {
   "cell_type": "code",
   "execution_count": 1,
   "metadata": {
    "collapsed": true,
    "jupyter": {
     "outputs_hidden": true
    }
   },
   "outputs": [
    {
     "name": "stderr",
     "output_type": "stream",
     "text": [
      "D:\\Users\\ress\\anaconda3\\lib\\site-packages\\tensorflow\\python\\framework\\dtypes.py:516: FutureWarning: Passing (type, 1) or '1type' as a synonym of type is deprecated; in a future version of numpy, it will be understood as (type, (1,)) / '(1,)type'.\n",
      "  _np_qint8 = np.dtype([(\"qint8\", np.int8, 1)])\n",
      "D:\\Users\\ress\\anaconda3\\lib\\site-packages\\tensorflow\\python\\framework\\dtypes.py:517: FutureWarning: Passing (type, 1) or '1type' as a synonym of type is deprecated; in a future version of numpy, it will be understood as (type, (1,)) / '(1,)type'.\n",
      "  _np_quint8 = np.dtype([(\"quint8\", np.uint8, 1)])\n",
      "D:\\Users\\ress\\anaconda3\\lib\\site-packages\\tensorflow\\python\\framework\\dtypes.py:518: FutureWarning: Passing (type, 1) or '1type' as a synonym of type is deprecated; in a future version of numpy, it will be understood as (type, (1,)) / '(1,)type'.\n",
      "  _np_qint16 = np.dtype([(\"qint16\", np.int16, 1)])\n",
      "D:\\Users\\ress\\anaconda3\\lib\\site-packages\\tensorflow\\python\\framework\\dtypes.py:519: FutureWarning: Passing (type, 1) or '1type' as a synonym of type is deprecated; in a future version of numpy, it will be understood as (type, (1,)) / '(1,)type'.\n",
      "  _np_quint16 = np.dtype([(\"quint16\", np.uint16, 1)])\n",
      "D:\\Users\\ress\\anaconda3\\lib\\site-packages\\tensorflow\\python\\framework\\dtypes.py:520: FutureWarning: Passing (type, 1) or '1type' as a synonym of type is deprecated; in a future version of numpy, it will be understood as (type, (1,)) / '(1,)type'.\n",
      "  _np_qint32 = np.dtype([(\"qint32\", np.int32, 1)])\n",
      "D:\\Users\\ress\\anaconda3\\lib\\site-packages\\tensorflow\\python\\framework\\dtypes.py:525: FutureWarning: Passing (type, 1) or '1type' as a synonym of type is deprecated; in a future version of numpy, it will be understood as (type, (1,)) / '(1,)type'.\n",
      "  np_resource = np.dtype([(\"resource\", np.ubyte, 1)])\n",
      "D:\\Users\\ress\\anaconda3\\lib\\site-packages\\tensorboard\\compat\\tensorflow_stub\\dtypes.py:541: FutureWarning: Passing (type, 1) or '1type' as a synonym of type is deprecated; in a future version of numpy, it will be understood as (type, (1,)) / '(1,)type'.\n",
      "  _np_qint8 = np.dtype([(\"qint8\", np.int8, 1)])\n",
      "D:\\Users\\ress\\anaconda3\\lib\\site-packages\\tensorboard\\compat\\tensorflow_stub\\dtypes.py:542: FutureWarning: Passing (type, 1) or '1type' as a synonym of type is deprecated; in a future version of numpy, it will be understood as (type, (1,)) / '(1,)type'.\n",
      "  _np_quint8 = np.dtype([(\"quint8\", np.uint8, 1)])\n",
      "D:\\Users\\ress\\anaconda3\\lib\\site-packages\\tensorboard\\compat\\tensorflow_stub\\dtypes.py:543: FutureWarning: Passing (type, 1) or '1type' as a synonym of type is deprecated; in a future version of numpy, it will be understood as (type, (1,)) / '(1,)type'.\n",
      "  _np_qint16 = np.dtype([(\"qint16\", np.int16, 1)])\n",
      "D:\\Users\\ress\\anaconda3\\lib\\site-packages\\tensorboard\\compat\\tensorflow_stub\\dtypes.py:544: FutureWarning: Passing (type, 1) or '1type' as a synonym of type is deprecated; in a future version of numpy, it will be understood as (type, (1,)) / '(1,)type'.\n",
      "  _np_quint16 = np.dtype([(\"quint16\", np.uint16, 1)])\n",
      "D:\\Users\\ress\\anaconda3\\lib\\site-packages\\tensorboard\\compat\\tensorflow_stub\\dtypes.py:545: FutureWarning: Passing (type, 1) or '1type' as a synonym of type is deprecated; in a future version of numpy, it will be understood as (type, (1,)) / '(1,)type'.\n",
      "  _np_qint32 = np.dtype([(\"qint32\", np.int32, 1)])\n",
      "D:\\Users\\ress\\anaconda3\\lib\\site-packages\\tensorboard\\compat\\tensorflow_stub\\dtypes.py:550: FutureWarning: Passing (type, 1) or '1type' as a synonym of type is deprecated; in a future version of numpy, it will be understood as (type, (1,)) / '(1,)type'.\n",
      "  np_resource = np.dtype([(\"resource\", np.ubyte, 1)])\n"
     ]
    }
   ],
   "source": [
    "from functions import *"
   ]
  },
  {
   "cell_type": "code",
   "execution_count": 2,
   "metadata": {},
   "outputs": [],
   "source": [
    "#must be podcast or music\n",
    "atype=\"music\""
   ]
  },
  {
   "cell_type": "code",
   "execution_count": 3,
   "metadata": {},
   "outputs": [],
   "source": [
    "extractFeaturesAllFilesnf(atype)"
   ]
  },
  {
   "cell_type": "code",
   "execution_count": 3,
   "metadata": {
    "collapsed": true,
    "jupyter": {
     "outputs_hidden": true
    }
   },
   "outputs": [
    {
     "name": "stdout",
     "output_type": "stream",
     "text": [
      "Reduced to: 0.9372693726937269\n",
      "[0.76833584 0.88059746 0.91424688 0.94197091]\n",
      "Reduced to: 0.9655172413793104\n",
      "[0.90694438 0.97101258 0.98179163 0.98797725]\n",
      "Reduced to: 0.9175627240143369\n",
      "[0.80579292 0.91475843 0.94214807 0.96086683]\n",
      "Reduced to: 0.8870056497175142\n",
      "[0.56802044 0.72793043 0.80905168 0.87647636]\n",
      "Reduced to: 0.9385964912280702\n",
      "[0.78901372 0.89668559 0.93805592 0.95873366]\n",
      "Reduced to: 0.8938053097345132\n",
      "[0.73340608 0.84849802 0.8928095  0.92647954]\n",
      "Reduced to: 0.9290780141843972\n",
      "[0.90431756 0.95371006 0.97375527 0.98210784]\n",
      "Reduced to: 0.9180327868852459\n",
      "[0.66050485 0.79772677 0.89098851 0.91894195]\n",
      "Reduced to: 0.9641434262948207\n",
      "[0.90075176 0.95135574 0.97558403 0.98426564]\n",
      "Reduced to: 0.9039145907473309\n",
      "[0.90408109 0.96431989 0.97759777 0.98515821]\n",
      "Reduced to: 0.908695652173913\n",
      "[0.87439598 0.93388588 0.96018213 0.973674  ]\n",
      "Reduced to: 0.9224137931034483\n",
      "[0.86351959 0.90028966 0.93085737 0.94976254]\n",
      "Reduced to: 0.9327354260089686\n",
      "[0.83165912 0.90162066 0.94034698 0.95761286]\n",
      "Reduced to: 0.919047619047619\n",
      "[0.61189279 0.82588033 0.92120897 0.95513832]\n",
      "Reduced to: 0.9141414141414141\n",
      "[0.90658258 0.94847096 0.975337   0.98161822]\n",
      "Reduced to: 0.9414414414414415\n",
      "[0.81416807 0.88528516 0.92193434 0.94241763]\n",
      "Reduced to: 0.9424083769633508\n",
      "[0.8871561  0.92821042 0.95631989 0.96846251]\n",
      "Reduced to: 0.9130434782608695\n",
      "[0.8487434  0.91138459 0.95068816 0.96760008]\n",
      "Reduced to: 0.9342723004694836\n",
      "[0.72312049 0.82279313 0.88443099 0.91947682]\n",
      "Reduced to: 0.8903508771929824\n",
      "[0.63391194 0.78704081 0.86876452 0.90049506]\n",
      "Reduced to: 0.9395348837209302\n",
      "[0.64473083 0.77694208 0.84456949 0.90213833]\n",
      "Reduced to: 0.9807692307692307\n",
      "[0.9076129  0.95231121 0.9713329  0.9821983 ]\n",
      "Reduced to: 0.8899521531100478\n",
      "[0.93836247 0.96367013 0.97750779 0.98451489]\n",
      "Reduced to: 0.935064935064935\n",
      "[0.71669161 0.82777839 0.90312132 0.9331073 ]\n",
      "Reduced to: 0.9422382671480144\n",
      "[0.92508289 0.95710142 0.9686765  0.97852363]\n",
      "Reduced to: 0.9049586776859504\n",
      "[0.86684091 0.93127915 0.95350944 0.9685719 ]\n",
      "Reduced to: 0.9372549019607843\n",
      "[0.87893068 0.93818251 0.96560801 0.97598855]\n",
      "Reduced to: 0.8957654723127035\n",
      "[0.56708477 0.79276068 0.85994256 0.91163477]\n",
      "Reduced to: 0.9392857142857143\n",
      "[0.85904545 0.91928919 0.94453551 0.96339974]\n",
      "Reduced to: 0.9343434343434344\n",
      "[0.43981346 0.64967465 0.73898729 0.81812564]\n",
      "Reduced to: 0.9195402298850575\n",
      "[0.57124877 0.77223597 0.84506696 0.89964989]\n",
      "Reduced to: 0.9279661016949152\n",
      "[0.76280256 0.8840143  0.93374928 0.95133103]\n",
      "Reduced to: 0.9294605809128631\n",
      "[0.79838822 0.85438384 0.88726501 0.91303851]\n",
      "Reduced to: 0.9090909090909091\n",
      "[0.66580159 0.78228141 0.83427911 0.87765374]\n",
      "Reduced to: 0.9061032863849765\n",
      "[0.6974972  0.821834   0.89426137 0.93003365]\n",
      "Reduced to: 0.9273743016759777\n",
      "[0.59675954 0.76985249 0.85807599 0.90849145]\n",
      "Reduced to: 0.9169811320754717\n",
      "[0.74875543 0.82939795 0.88951349 0.93807057]\n",
      "Reduced to: 0.9192825112107623\n",
      "[0.82842934 0.9097174  0.94404222 0.96050645]\n",
      "Reduced to: 0.9151785714285714\n",
      "[0.69638785 0.79362331 0.85562059 0.90490383]\n",
      "Reduced to: 0.9720930232558139\n",
      "[0.8150399  0.89215588 0.92739272 0.94289321]\n"
     ]
    }
   ],
   "source": [
    "data1=readFiles(\"nofilter\",atype,\"one\")\n",
    "data2=readFiles(\"nofilter\",atype,\"two\")\n",
    "data3=[]\n",
    "data4=[]\n",
    "if (atype==\"podcast\"):\n",
    "    data3=readFiles(\"nofilter\",atype,\"three\")\n",
    "    data4=readFiles(\"nofilter\",atype,\"four\")\n",
    "\n"
   ]
  },
  {
   "cell_type": "code",
   "execution_count": 7,
   "metadata": {},
   "outputs": [
    {
     "name": "stdout",
     "output_type": "stream",
     "text": [
      "Best distance: 2118\n",
      "Errors: 19\n",
      "Accuracy: 68.33333333333333 %\n"
     ]
    },
    {
     "data": {
      "image/png": "[encoded data removed]",
      "text/plain": [
       "<Figure size 432x288 with 1 Axes>"
      ]
     },
     "metadata": {
      "needs_background": "light"
     },
     "output_type": "display_data"
    }
   ],
   "source": [
    "start=1800\n",
    "stop=5000\n",
    "dist=bestDistance(data1,data2,data3,data4,\"nofilter\",atype,start,stop)"
   ]
  },
  {
   "cell_type": "code",
   "execution_count": 8,
   "metadata": {},
   "outputs": [],
   "source": [
    "savePlots(data1,\"nofilter\",atype,\"one\",dist)\n",
    "savePlots(data2,\"nofilter\",atype,\"two\",dist)\n",
    "if (atype==\"podcast\"):\n",
    "    savePlots(data3,\"nofilter\",atype,\"three\",dist)\n",
    "    savePlots(data4,\"nofilter\",atype,\"four\",dist)"
   ]
  },
  {
   "cell_type": "code",
   "execution_count": 9,
   "metadata": {},
   "outputs": [
    {
     "data": {
      "image/png": "[encoded data removed]",
      "text/plain": [
       "<Figure size 1440x720 with 3 Axes>"
      ]
     },
     "metadata": {
      "needs_background": "light"
     },
     "output_type": "display_data"
    }
   ],
   "source": [
    "plotErrors(data1,data2,data3,data4,dist,\"nofilter\",atype)"
   ]
  },
  {
   "cell_type": "code",
   "execution_count": null,
   "metadata": {},
   "outputs": [],
   "source": []
  }
 ],
 "metadata": {
  "kernelspec": {
   "display_name": "Python 3",
   "language": "python",
   "name": "python3"
  },
  "language_info": {
   "codemirror_mode": {
    "name": "ipython",
    "version": 3
   },
   "file_extension": ".py",
   "mimetype": "text/x-python",
   "name": "python",
   "nbconvert_exporter": "python",
   "pygments_lexer": "ipython3",
   "version": "3.7.6"
  }
 },
 "nbformat": 4,
 "nbformat_minor": 4
}
