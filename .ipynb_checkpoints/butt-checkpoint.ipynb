{
 "cells": [
  {
   "cell_type": "code",
   "execution_count": 1,
   "metadata": {},
   "outputs": [
    {
     "name": "stderr",
     "output_type": "stream",
     "text": [
      "D:\\Users\\ress\\anaconda3\\lib\\site-packages\\tensorflow\\python\\framework\\dtypes.py:516: FutureWarning: Passing (type, 1) or '1type' as a synonym of type is deprecated; in a future version of numpy, it will be understood as (type, (1,)) / '(1,)type'.\n",
      "  _np_qint8 = np.dtype([(\"qint8\", np.int8, 1)])\n",
      "D:\\Users\\ress\\anaconda3\\lib\\site-packages\\tensorflow\\python\\framework\\dtypes.py:517: FutureWarning: Passing (type, 1) or '1type' as a synonym of type is deprecated; in a future version of numpy, it will be understood as (type, (1,)) / '(1,)type'.\n",
      "  _np_quint8 = np.dtype([(\"quint8\", np.uint8, 1)])\n",
      "D:\\Users\\ress\\anaconda3\\lib\\site-packages\\tensorflow\\python\\framework\\dtypes.py:518: FutureWarning: Passing (type, 1) or '1type' as a synonym of type is deprecated; in a future version of numpy, it will be understood as (type, (1,)) / '(1,)type'.\n",
      "  _np_qint16 = np.dtype([(\"qint16\", np.int16, 1)])\n",
      "D:\\Users\\ress\\anaconda3\\lib\\site-packages\\tensorflow\\python\\framework\\dtypes.py:519: FutureWarning: Passing (type, 1) or '1type' as a synonym of type is deprecated; in a future version of numpy, it will be understood as (type, (1,)) / '(1,)type'.\n",
      "  _np_quint16 = np.dtype([(\"quint16\", np.uint16, 1)])\n",
      "D:\\Users\\ress\\anaconda3\\lib\\site-packages\\tensorflow\\python\\framework\\dtypes.py:520: FutureWarning: Passing (type, 1) or '1type' as a synonym of type is deprecated; in a future version of numpy, it will be understood as (type, (1,)) / '(1,)type'.\n",
      "  _np_qint32 = np.dtype([(\"qint32\", np.int32, 1)])\n",
      "D:\\Users\\ress\\anaconda3\\lib\\site-packages\\tensorflow\\python\\framework\\dtypes.py:525: FutureWarning: Passing (type, 1) or '1type' as a synonym of type is deprecated; in a future version of numpy, it will be understood as (type, (1,)) / '(1,)type'.\n",
      "  np_resource = np.dtype([(\"resource\", np.ubyte, 1)])\n",
      "D:\\Users\\ress\\anaconda3\\lib\\site-packages\\tensorboard\\compat\\tensorflow_stub\\dtypes.py:541: FutureWarning: Passing (type, 1) or '1type' as a synonym of type is deprecated; in a future version of numpy, it will be understood as (type, (1,)) / '(1,)type'.\n",
      "  _np_qint8 = np.dtype([(\"qint8\", np.int8, 1)])\n",
      "D:\\Users\\ress\\anaconda3\\lib\\site-packages\\tensorboard\\compat\\tensorflow_stub\\dtypes.py:542: FutureWarning: Passing (type, 1) or '1type' as a synonym of type is deprecated; in a future version of numpy, it will be understood as (type, (1,)) / '(1,)type'.\n",
      "  _np_quint8 = np.dtype([(\"quint8\", np.uint8, 1)])\n",
      "D:\\Users\\ress\\anaconda3\\lib\\site-packages\\tensorboard\\compat\\tensorflow_stub\\dtypes.py:543: FutureWarning: Passing (type, 1) or '1type' as a synonym of type is deprecated; in a future version of numpy, it will be understood as (type, (1,)) / '(1,)type'.\n",
      "  _np_qint16 = np.dtype([(\"qint16\", np.int16, 1)])\n",
      "D:\\Users\\ress\\anaconda3\\lib\\site-packages\\tensorboard\\compat\\tensorflow_stub\\dtypes.py:544: FutureWarning: Passing (type, 1) or '1type' as a synonym of type is deprecated; in a future version of numpy, it will be understood as (type, (1,)) / '(1,)type'.\n",
      "  _np_quint16 = np.dtype([(\"quint16\", np.uint16, 1)])\n",
      "D:\\Users\\ress\\anaconda3\\lib\\site-packages\\tensorboard\\compat\\tensorflow_stub\\dtypes.py:545: FutureWarning: Passing (type, 1) or '1type' as a synonym of type is deprecated; in a future version of numpy, it will be understood as (type, (1,)) / '(1,)type'.\n",
      "  _np_qint32 = np.dtype([(\"qint32\", np.int32, 1)])\n",
      "D:\\Users\\ress\\anaconda3\\lib\\site-packages\\tensorboard\\compat\\tensorflow_stub\\dtypes.py:550: FutureWarning: Passing (type, 1) or '1type' as a synonym of type is deprecated; in a future version of numpy, it will be understood as (type, (1,)) / '(1,)type'.\n",
      "  np_resource = np.dtype([(\"resource\", np.ubyte, 1)])\n"
     ]
    }
   ],
   "source": [
    "from functions import *"
   ]
  },
  {
   "cell_type": "code",
   "execution_count": 23,
   "metadata": {},
   "outputs": [],
   "source": [
    "#must be 1 (original fs), 2(fs/2), 4(fs/4)\n",
    "cut=4\n",
    "if (cut==1):\n",
    "    fold=\"\"\n",
    "elif (cut==2):\n",
    "    fold=\"22k\"\n",
    "elif (cut==4):\n",
    "    fold=\"11k\"\n",
    "#must be music or podcast\n",
    "atype=\"podcast\""
   ]
  },
  {
   "cell_type": "code",
   "execution_count": 5,
   "metadata": {},
   "outputs": [],
   "source": [
    "filtAllFiles(\"butter\",atype,cut)\n"
   ]
  },
  {
   "cell_type": "code",
   "execution_count": 19,
   "metadata": {
    "collapsed": true,
    "jupyter": {
     "outputs_hidden": true
    }
   },
   "outputs": [
    {
     "ename": "KeyboardInterrupt",
     "evalue": "",
     "output_type": "error",
     "traceback": [
      "\u001b[1;31m---------------------------------------------------------------------------\u001b[0m",
      "\u001b[1;31mKeyboardInterrupt\u001b[0m                         Traceback (most recent call last)",
      "\u001b[1;32m<ipython-input-19-b5d8031e9257>\u001b[0m in \u001b[0;36m<module>\u001b[1;34m\u001b[0m\n\u001b[1;32m----> 1\u001b[1;33m \u001b[0mextractFeaturesAllFiles\u001b[0m\u001b[1;33m(\u001b[0m\u001b[1;34m\"butter\"\u001b[0m\u001b[1;33m,\u001b[0m\u001b[0matype\u001b[0m\u001b[1;33m+\u001b[0m\u001b[0mfold\u001b[0m\u001b[1;33m)\u001b[0m\u001b[1;33m\u001b[0m\u001b[1;33m\u001b[0m\u001b[0m\n\u001b[0m",
      "\u001b[1;32mD:\\Progetto\\functions.py\u001b[0m in \u001b[0;36mextractFeaturesAllFiles\u001b[1;34m(filt, atype)\u001b[0m\n\u001b[0;32m     48\u001b[0m                 \u001b[0maudio\u001b[0m\u001b[1;33m=\u001b[0m\u001b[0mlibrosa\u001b[0m\u001b[1;33m.\u001b[0m\u001b[0mload\u001b[0m\u001b[1;33m(\u001b[0m\u001b[0mfilt\u001b[0m\u001b[1;33m+\u001b[0m\u001b[1;34m\"/\"\u001b[0m\u001b[1;33m+\u001b[0m\u001b[0matype\u001b[0m\u001b[1;33m+\u001b[0m\u001b[1;34m\"/sources/\"\u001b[0m\u001b[1;33m+\u001b[0m\u001b[0mf1\u001b[0m\u001b[1;33m+\u001b[0m\u001b[1;34m\"/\"\u001b[0m\u001b[1;33m+\u001b[0m\u001b[0mf2\u001b[0m\u001b[1;33m+\u001b[0m\u001b[1;34m\"/vocals.wav\"\u001b[0m\u001b[1;33m,\u001b[0m\u001b[0msr\u001b[0m\u001b[1;33m=\u001b[0m\u001b[1;36m44100\u001b[0m\u001b[1;33m)\u001b[0m\u001b[1;33m\u001b[0m\u001b[1;33m\u001b[0m\u001b[0m\n\u001b[0;32m     49\u001b[0m             \u001b[1;32melse\u001b[0m\u001b[1;33m:\u001b[0m\u001b[1;33m\u001b[0m\u001b[1;33m\u001b[0m\u001b[0m\n\u001b[1;32m---> 50\u001b[1;33m                 \u001b[1;32mif\u001b[0m \u001b[1;33m(\u001b[0m\u001b[0mfilt\u001b[0m\u001b[1;33m==\u001b[0m\u001b[1;34m\"podcast22k\"\u001b[0m\u001b[1;33m)\u001b[0m\u001b[1;33m:\u001b[0m\u001b[1;33m\u001b[0m\u001b[1;33m\u001b[0m\u001b[0m\n\u001b[0m\u001b[0;32m     51\u001b[0m                     \u001b[0maudio\u001b[0m\u001b[1;33m=\u001b[0m\u001b[0mlibrosa\u001b[0m\u001b[1;33m.\u001b[0m\u001b[0mload\u001b[0m\u001b[1;33m(\u001b[0m\u001b[0mfilt\u001b[0m\u001b[1;33m+\u001b[0m\u001b[1;34m\"/\"\u001b[0m\u001b[1;33m+\u001b[0m\u001b[0matype\u001b[0m\u001b[1;33m+\u001b[0m\u001b[1;34m\"/sources/\"\u001b[0m\u001b[1;33m+\u001b[0m\u001b[0mf1\u001b[0m\u001b[1;33m+\u001b[0m\u001b[1;34m\"/\"\u001b[0m\u001b[1;33m+\u001b[0m\u001b[0mf2\u001b[0m\u001b[1;33m,\u001b[0m\u001b[0msr\u001b[0m\u001b[1;33m=\u001b[0m\u001b[1;36m44100\u001b[0m\u001b[1;33m/\u001b[0m\u001b[1;36m2\u001b[0m\u001b[1;33m)\u001b[0m\u001b[1;33m\u001b[0m\u001b[1;33m\u001b[0m\u001b[0m\n\u001b[0;32m     52\u001b[0m                 \u001b[1;32melif\u001b[0m \u001b[1;33m(\u001b[0m\u001b[0mfilt\u001b[0m\u001b[1;33m==\u001b[0m\u001b[1;34m\"podcast11k\"\u001b[0m\u001b[1;33m)\u001b[0m\u001b[1;33m:\u001b[0m\u001b[1;33m\u001b[0m\u001b[1;33m\u001b[0m\u001b[0m\n",
      "\u001b[1;32mD:\\Users\\ress\\anaconda3\\lib\\site-packages\\librosa\\core\\audio.py\u001b[0m in \u001b[0;36mload\u001b[1;34m(path, sr, mono, offset, duration, dtype, res_type)\u001b[0m\n\u001b[0;32m    169\u001b[0m \u001b[1;33m\u001b[0m\u001b[0m\n\u001b[0;32m    170\u001b[0m     \u001b[1;32mif\u001b[0m \u001b[0msr\u001b[0m \u001b[1;32mis\u001b[0m \u001b[1;32mnot\u001b[0m \u001b[1;32mNone\u001b[0m\u001b[1;33m:\u001b[0m\u001b[1;33m\u001b[0m\u001b[1;33m\u001b[0m\u001b[0m\n\u001b[1;32m--> 171\u001b[1;33m         \u001b[0my\u001b[0m \u001b[1;33m=\u001b[0m \u001b[0mresample\u001b[0m\u001b[1;33m(\u001b[0m\u001b[0my\u001b[0m\u001b[1;33m,\u001b[0m \u001b[0msr_native\u001b[0m\u001b[1;33m,\u001b[0m \u001b[0msr\u001b[0m\u001b[1;33m,\u001b[0m \u001b[0mres_type\u001b[0m\u001b[1;33m=\u001b[0m\u001b[0mres_type\u001b[0m\u001b[1;33m)\u001b[0m\u001b[1;33m\u001b[0m\u001b[1;33m\u001b[0m\u001b[0m\n\u001b[0m\u001b[0;32m    172\u001b[0m \u001b[1;33m\u001b[0m\u001b[0m\n\u001b[0;32m    173\u001b[0m     \u001b[1;32melse\u001b[0m\u001b[1;33m:\u001b[0m\u001b[1;33m\u001b[0m\u001b[1;33m\u001b[0m\u001b[0m\n",
      "\u001b[1;32mD:\\Users\\ress\\anaconda3\\lib\\site-packages\\librosa\\core\\audio.py\u001b[0m in \u001b[0;36mresample\u001b[1;34m(y, orig_sr, target_sr, res_type, fix, scale, **kwargs)\u001b[0m\n\u001b[0;32m    545\u001b[0m         \u001b[0my_hat\u001b[0m \u001b[1;33m=\u001b[0m \u001b[0mscipy\u001b[0m\u001b[1;33m.\u001b[0m\u001b[0msignal\u001b[0m\u001b[1;33m.\u001b[0m\u001b[0mresample_poly\u001b[0m\u001b[1;33m(\u001b[0m\u001b[0my\u001b[0m\u001b[1;33m,\u001b[0m \u001b[0mtarget_sr\u001b[0m \u001b[1;33m//\u001b[0m \u001b[0mgcd\u001b[0m\u001b[1;33m,\u001b[0m \u001b[0morig_sr\u001b[0m \u001b[1;33m//\u001b[0m \u001b[0mgcd\u001b[0m\u001b[1;33m,\u001b[0m \u001b[0maxis\u001b[0m\u001b[1;33m=\u001b[0m\u001b[1;33m-\u001b[0m\u001b[1;36m1\u001b[0m\u001b[1;33m)\u001b[0m\u001b[1;33m\u001b[0m\u001b[1;33m\u001b[0m\u001b[0m\n\u001b[0;32m    546\u001b[0m     \u001b[1;32melse\u001b[0m\u001b[1;33m:\u001b[0m\u001b[1;33m\u001b[0m\u001b[1;33m\u001b[0m\u001b[0m\n\u001b[1;32m--> 547\u001b[1;33m         \u001b[0my_hat\u001b[0m \u001b[1;33m=\u001b[0m \u001b[0mresampy\u001b[0m\u001b[1;33m.\u001b[0m\u001b[0mresample\u001b[0m\u001b[1;33m(\u001b[0m\u001b[0my\u001b[0m\u001b[1;33m,\u001b[0m \u001b[0morig_sr\u001b[0m\u001b[1;33m,\u001b[0m \u001b[0mtarget_sr\u001b[0m\u001b[1;33m,\u001b[0m \u001b[0mfilter\u001b[0m\u001b[1;33m=\u001b[0m\u001b[0mres_type\u001b[0m\u001b[1;33m,\u001b[0m \u001b[0maxis\u001b[0m\u001b[1;33m=\u001b[0m\u001b[1;33m-\u001b[0m\u001b[1;36m1\u001b[0m\u001b[1;33m)\u001b[0m\u001b[1;33m\u001b[0m\u001b[1;33m\u001b[0m\u001b[0m\n\u001b[0m\u001b[0;32m    548\u001b[0m \u001b[1;33m\u001b[0m\u001b[0m\n\u001b[0;32m    549\u001b[0m     \u001b[1;32mif\u001b[0m \u001b[0mfix\u001b[0m\u001b[1;33m:\u001b[0m\u001b[1;33m\u001b[0m\u001b[1;33m\u001b[0m\u001b[0m\n",
      "\u001b[1;32mD:\\Users\\ress\\anaconda3\\lib\\site-packages\\resampy\\core.py\u001b[0m in \u001b[0;36mresample\u001b[1;34m(x, sr_orig, sr_new, axis, filter, **kwargs)\u001b[0m\n\u001b[0;32m    118\u001b[0m     \u001b[0mx_2d\u001b[0m \u001b[1;33m=\u001b[0m \u001b[0mx\u001b[0m\u001b[1;33m.\u001b[0m\u001b[0mswapaxes\u001b[0m\u001b[1;33m(\u001b[0m\u001b[1;36m0\u001b[0m\u001b[1;33m,\u001b[0m \u001b[0maxis\u001b[0m\u001b[1;33m)\u001b[0m\u001b[1;33m.\u001b[0m\u001b[0mreshape\u001b[0m\u001b[1;33m(\u001b[0m\u001b[1;33m(\u001b[0m\u001b[0mx\u001b[0m\u001b[1;33m.\u001b[0m\u001b[0mshape\u001b[0m\u001b[1;33m[\u001b[0m\u001b[0maxis\u001b[0m\u001b[1;33m]\u001b[0m\u001b[1;33m,\u001b[0m \u001b[1;33m-\u001b[0m\u001b[1;36m1\u001b[0m\u001b[1;33m)\u001b[0m\u001b[1;33m)\u001b[0m\u001b[1;33m\u001b[0m\u001b[1;33m\u001b[0m\u001b[0m\n\u001b[0;32m    119\u001b[0m     \u001b[0my_2d\u001b[0m \u001b[1;33m=\u001b[0m \u001b[0my\u001b[0m\u001b[1;33m.\u001b[0m\u001b[0mswapaxes\u001b[0m\u001b[1;33m(\u001b[0m\u001b[1;36m0\u001b[0m\u001b[1;33m,\u001b[0m \u001b[0maxis\u001b[0m\u001b[1;33m)\u001b[0m\u001b[1;33m.\u001b[0m\u001b[0mreshape\u001b[0m\u001b[1;33m(\u001b[0m\u001b[1;33m(\u001b[0m\u001b[0my\u001b[0m\u001b[1;33m.\u001b[0m\u001b[0mshape\u001b[0m\u001b[1;33m[\u001b[0m\u001b[0maxis\u001b[0m\u001b[1;33m]\u001b[0m\u001b[1;33m,\u001b[0m \u001b[1;33m-\u001b[0m\u001b[1;36m1\u001b[0m\u001b[1;33m)\u001b[0m\u001b[1;33m)\u001b[0m\u001b[1;33m\u001b[0m\u001b[1;33m\u001b[0m\u001b[0m\n\u001b[1;32m--> 120\u001b[1;33m     \u001b[0mresample_f\u001b[0m\u001b[1;33m(\u001b[0m\u001b[0mx_2d\u001b[0m\u001b[1;33m,\u001b[0m \u001b[0my_2d\u001b[0m\u001b[1;33m,\u001b[0m \u001b[0msample_ratio\u001b[0m\u001b[1;33m,\u001b[0m \u001b[0minterp_win\u001b[0m\u001b[1;33m,\u001b[0m \u001b[0minterp_delta\u001b[0m\u001b[1;33m,\u001b[0m \u001b[0mprecision\u001b[0m\u001b[1;33m)\u001b[0m\u001b[1;33m\u001b[0m\u001b[1;33m\u001b[0m\u001b[0m\n\u001b[0m\u001b[0;32m    121\u001b[0m \u001b[1;33m\u001b[0m\u001b[0m\n\u001b[0;32m    122\u001b[0m     \u001b[1;32mreturn\u001b[0m \u001b[0my\u001b[0m\u001b[1;33m\u001b[0m\u001b[1;33m\u001b[0m\u001b[0m\n",
      "\u001b[1;31mKeyboardInterrupt\u001b[0m: "
     ]
    }
   ],
   "source": [
    "extractFeaturesAllFiles(\"butter\",atype+fold)"
   ]
  },
  {
   "cell_type": "code",
   "execution_count": 27,
   "metadata": {
    "collapsed": true,
    "jupyter": {
     "outputs_hidden": true
    }
   },
   "outputs": [
    {
     "name": "stdout",
     "output_type": "stream",
     "text": [
      "Reduced to: 0.944633730834753\n",
      "[0.54041624 0.69348391 0.82989157 0.92182396]\n",
      "Reduced to: 0.9405255878284924\n",
      "[0.48407012 0.67888627 0.81090887 0.89564244]\n",
      "Reduced to: 0.9354207436399217\n",
      "[0.46632965 0.69179873 0.84089924 0.90531362]\n",
      "Reduced to: 0.9487870619946092\n",
      "[0.46191682 0.69047217 0.83978999 0.90972575]\n",
      "Reduced to: 0.9610215053763441\n",
      "[0.48018856 0.73967425 0.86340015 0.91509277]\n",
      "Reduced to: 0.9230769230769231\n",
      "[0.71561804 0.89143654 0.93359925 0.96598353]\n",
      "Reduced to: 0.9524838012958964\n",
      "[0.49238522 0.71451203 0.84931727 0.90689598]\n",
      "Reduced to: 0.9416135881104034\n",
      "[0.31715148 0.60684297 0.79716084 0.87639812]\n",
      "Reduced to: 0.939799331103679\n",
      "[0.63709354 0.8381261  0.92416401 0.95390172]\n",
      "Reduced to: 0.9524390243902439\n",
      "[0.73708096 0.88356292 0.94281798 0.9648737 ]\n",
      "Reduced to: 0.9482612383375743\n",
      "[0.73003101 0.87978867 0.94124804 0.96247812]\n",
      "Reduced to: 0.9363143631436315\n",
      "[0.68185349 0.83426885 0.91410424 0.94918339]\n",
      "Reduced to: 0.9731182795698925\n",
      "[0.46586617 0.72539018 0.81135555 0.86970817]\n",
      "Reduced to: 0.9140811455847255\n",
      "[0.52473209 0.71019679 0.86693883 0.91368865]\n",
      "Reduced to: 0.9385633270321361\n",
      "[0.66104569 0.8321154  0.90892812 0.95631848]\n",
      "Reduced to: 0.9269102990033222\n",
      "[0.69742738 0.84011622 0.91421504 0.96027125]\n",
      "Reduced to: 0.9215384615384615\n",
      "[0.59846848 0.78055649 0.87033708 0.92639245]\n",
      "Reduced to: 0.9381761978361669\n",
      "[0.53343319 0.70185078 0.82701479 0.90067695]\n",
      "Reduced to: 0.9246575342465754\n",
      "[0.62118961 0.77288621 0.8615243  0.92777436]\n",
      "Reduced to: 0.950354609929078\n",
      "[0.52113269 0.68797333 0.80931164 0.89100152]\n",
      "Reduced to: 0.9408672798948752\n",
      "[0.68265866 0.82454746 0.8913789  0.93949667]\n",
      "Reduced to: 0.9310344827586207\n",
      "[0.80081493 0.90183848 0.94735449 0.97461335]\n",
      "Reduced to: 0.9536\n",
      "[0.58138206 0.78304617 0.87777073 0.92372628]\n",
      "Reduced to: 0.9552\n",
      "[0.70009223 0.83509139 0.90076419 0.94041457]\n",
      "Reduced to: 0.9528158295281582\n",
      "[0.59692505 0.73948114 0.85616218 0.916262  ]\n",
      "Reduced to: 0.9563318777292577\n",
      "[0.5241932  0.72962672 0.83616064 0.90587671]\n",
      "Reduced to: 0.9320987654320988\n",
      "[0.73140629 0.84673948 0.90317457 0.94525808]\n",
      "Reduced to: 0.9491691104594331\n",
      "[0.5908301  0.74100347 0.85346874 0.90934721]\n",
      "Reduced to: 0.9510385756676558\n",
      "[0.6945779  0.82855561 0.90363051 0.93916625]\n",
      "Reduced to: 0.9464285714285714\n",
      "[0.82126741 0.9069952  0.94646411 0.9676516 ]\n",
      "Reduced to: 0.9392201834862385\n",
      "[0.68749775 0.81404413 0.89276592 0.94471614]\n",
      "Reduced to: 0.9509071504802561\n",
      "[0.55040471 0.74205337 0.84649504 0.90652244]\n",
      "Reduced to: 0.932146829810901\n",
      "[0.75897734 0.86575668 0.92386125 0.96016468]\n",
      "Reduced to: 0.9399744572158365\n",
      "[0.75809281 0.87503473 0.93102816 0.96704421]\n",
      "Reduced to: 0.9364406779661016\n",
      "[0.71068007 0.81976774 0.89521965 0.95126806]\n",
      "Reduced to: 0.9398340248962656\n",
      "[0.64676564 0.79285897 0.88860336 0.94684132]\n",
      "Reduced to: 0.9417989417989417\n",
      "[0.62428819 0.76197077 0.87400819 0.93597643]\n",
      "Reduced to: 0.9544025157232704\n",
      "[0.62916544 0.77710466 0.89637852 0.93745261]\n",
      "Reduced to: 0.9368005266622779\n",
      "[0.73388538 0.8490881  0.91143896 0.94921116]\n",
      "Reduced to: 0.9629080118694362\n",
      "[0.72179116 0.85867125 0.93026441 0.96074807]\n",
      "Reduced to: 0.9349457881567973\n",
      "[0.79100428 0.88656754 0.94425941 0.96795359]\n",
      "Reduced to: 0.9352901934623082\n",
      "[0.87813427 0.95545768 0.97646439 0.98672598]\n",
      "Reduced to: 0.980653769179453\n",
      "[0.97698438 0.99237351 0.99568424 0.99742985]\n",
      "Reduced to: 0.9766472060050042\n",
      "[0.97428609 0.99110328 0.99489583 0.99717443]\n",
      "Reduced to: 0.9377431906614786\n",
      "[0.69541753 0.82708519 0.90129831 0.95069213]\n",
      "Reduced to: 0.9351032448377581\n",
      "[0.78157842 0.88949179 0.93833137 0.96717322]\n",
      "Reduced to: 0.9375684556407448\n",
      "[0.66584913 0.77383416 0.86813634 0.92904354]\n",
      "Reduced to: 0.9465020576131687\n",
      "[0.6895444  0.81000036 0.90194341 0.94207361]\n",
      "Reduced to: 0.9465776293823038\n",
      "[0.8557517  0.92460072 0.95128177 0.97016182]\n",
      "Reduced to: 0.9303675048355899\n",
      "[0.80522686 0.90483179 0.9397704  0.97018582]\n",
      "Reduced to: 0.9599483204134367\n",
      "[0.79984747 0.89336127 0.94085661 0.964268  ]\n",
      "Reduced to: 0.9327404113396331\n",
      "[0.82723095 0.90621693 0.94469499 0.96868153]\n",
      "Reduced to: 0.9528432732316228\n",
      "[0.7946164  0.89736745 0.94637537 0.96668721]\n",
      "Reduced to: 0.9316096747289407\n",
      "[0.79328657 0.88031564 0.93594673 0.96244295]\n",
      "Reduced to: 0.9520400858983536\n",
      "[0.81871721 0.91048373 0.94884084 0.9688006 ]\n",
      "Reduced to: 0.9332777314428691\n",
      "[0.83221661 0.91204782 0.95164193 0.97280357]\n",
      "Reduced to: 0.9513008672448299\n",
      "[0.80779678 0.90198066 0.94349273 0.96737434]\n",
      "Reduced to: 0.9306204136090727\n",
      "[0.73840825 0.85306202 0.91618878 0.95292973]\n",
      "Reduced to: 0.9226150767178118\n",
      "[0.76392384 0.89120429 0.93634244 0.96801098]\n",
      "Reduced to: 0.9212808539026017\n",
      "[0.82434879 0.91561947 0.95378024 0.97764064]\n",
      "Reduced to: 0.9424520433694745\n",
      "[0.8359617  0.90067423 0.95025894 0.97352531]\n",
      "Reduced to: 0.9349638688160089\n",
      "[0.68581554 0.83573001 0.90577694 0.94852274]\n",
      "Reduced to: 0.95263509006004\n",
      "[0.82883216 0.92042505 0.95065042 0.97143374]\n",
      "Reduced to: 0.9452968645763843\n",
      "[0.82041471 0.92383244 0.95064755 0.97330339]\n",
      "Reduced to: 0.9492995330220146\n",
      "[0.74781571 0.8745464  0.92209325 0.96060376]\n",
      "Reduced to: 0.952751528627015\n",
      "[0.70780568 0.82815059 0.88175323 0.93333714]\n",
      "Reduced to: 0.9455252918287937\n",
      "[0.69387301 0.80068602 0.873696   0.93161201]\n",
      "Reduced to: 0.9599777654252363\n",
      "[0.78783054 0.87935653 0.93184629 0.96488505]\n",
      "Reduced to: 0.9379586390927285\n",
      "[0.67810246 0.82582205 0.90416229 0.95294318]\n",
      "Reduced to: 0.9379586390927285\n",
      "[0.72576537 0.84941696 0.91420734 0.95942934]\n",
      "Reduced to: 0.9532944120100083\n",
      "[0.6390619  0.79297321 0.87406645 0.93396671]\n",
      "Reduced to: 0.9471928849360756\n",
      "[0.77405595 0.90493294 0.94632402 0.97068155]\n",
      "Reduced to: 0.9499582985821518\n",
      "[0.69435921 0.81653772 0.89055033 0.93920745]\n",
      "Reduced to: 0.9461648404001906\n",
      "[0.79138299 0.87026627 0.92213779 0.96014619]\n",
      "Reduced to: 0.9319546364242829\n",
      "[0.8327131  0.90493838 0.95326125 0.9726625 ]\n",
      "Reduced to: 0.9426284189459639\n",
      "[0.80992764 0.9002807  0.93976526 0.96464261]\n",
      "Reduced to: 0.939115929941618\n",
      "[0.52911777 0.70209742 0.80447824 0.89269979]\n",
      "Reduced to: 0.9346230820547031\n",
      "[0.83092898 0.9295237  0.95593763 0.9771705 ]\n",
      "Reduced to: 0.942745969983324\n",
      "[0.72553693 0.82608609 0.89593648 0.94149372]\n",
      "Reduced to: 0.9516397998888271\n",
      "[0.72891673 0.83028226 0.9027389  0.94277136]\n"
     ]
    }
   ],
   "source": [
    "data1=readFiles(\"butter\",atype+fold,\"one\")\n",
    "data2=readFiles(\"butter\",atype+fold,\"two\")\n",
    "data3=[]\n",
    "data4=[]\n",
    "if (atype==\"podcast\"):\n",
    "    data3=readFiles(\"butter\",atype+fold,\"three\")\n",
    "    data4=readFiles(\"butter\",atype+fold,\"four\")"
   ]
  },
  {
   "cell_type": "code",
   "execution_count": 31,
   "metadata": {},
   "outputs": [
    {
     "name": "stdout",
     "output_type": "stream",
     "text": [
      "Best distance: 1103\n",
      "Errors: 50\n",
      "Accuracy: 75.0 %\n"
     ]
    },
    {
     "data": {
      "image/png": "[encoded data removed]",
      "text/plain": [
       "<Figure size 432x288 with 1 Axes>"
      ]
     },
     "metadata": {
      "needs_background": "light"
     },
     "output_type": "display_data"
    }
   ],
   "source": [
    "start=900\n",
    "stop=1200\n",
    "dist=bestDistance(data1,data2,data3,data4,\"butter\",atype+fold,start,stop)"
   ]
  },
  {
   "cell_type": "code",
   "execution_count": 32,
   "metadata": {},
   "outputs": [],
   "source": [
    "savePlots(data1,\"butter\",atype+fold,\"one\",dist)\n",
    "savePlots(data2,\"butter\",atype+fold,\"two\",dist)\n",
    "if (atype==\"podcast\"):\n",
    "    savePlots(data3,\"butter\",atype+fold,\"three\",dist)\n",
    "    savePlots(data4,\"butter\",atype+fold,\"four\",dist)"
   ]
  },
  {
   "cell_type": "code",
   "execution_count": 33,
   "metadata": {},
   "outputs": [
    {
     "data": {
      "image/png": "[encoded data removed]",
      "text/plain": [
       "<Figure size 1440x720 with 5 Axes>"
      ]
     },
     "metadata": {
      "needs_background": "light"
     },
     "output_type": "display_data"
    }
   ],
   "source": [
    "plotErrors(data1,data2,data3,data4,dist,\"butter\",atype+fold)"
   ]
  },
  {
   "cell_type": "code",
   "execution_count": null,
   "metadata": {},
   "outputs": [],
   "source": []
  }
 ],
 "metadata": {
  "kernelspec": {
   "display_name": "Python 3",
   "language": "python",
   "name": "python3"
  },
  "language_info": {
   "codemirror_mode": {
    "name": "ipython",
    "version": 3
   },
   "file_extension": ".py",
   "mimetype": "text/x-python",
   "name": "python",
   "nbconvert_exporter": "python",
   "pygments_lexer": "ipython3",
   "version": "3.7.6"
  }
 },
 "nbformat": 4,
 "nbformat_minor": 4
}
